{
 "cells": [
  {
   "cell_type": "markdown",
   "id": "9bfebc99",
   "metadata": {},
   "source": [
    "# Repaso de estructuras básicas de programación"
   ]
  },
  {
   "cell_type": "markdown",
   "id": "3533234b",
   "metadata": {},
   "source": [
    "## Sintaxis y control de flujo"
   ]
  },
  {
   "cell_type": "markdown",
   "id": "09b12518",
   "metadata": {},
   "source": [
    "### if - else"
   ]
  },
  {
   "cell_type": "markdown",
   "id": "88f34dae",
   "metadata": {},
   "source": [
    "### bucle/ciclo"
   ]
  },
  {
   "cell_type": "markdown",
   "id": "e5e8c6c5",
   "metadata": {},
   "source": [
    "## Operadores"
   ]
  },
  {
   "cell_type": "markdown",
   "id": "efb0e63e",
   "metadata": {},
   "source": [
    "### Matemáticos"
   ]
  },
  {
   "cell_type": "markdown",
   "id": "a74ef898",
   "metadata": {},
   "source": [
    "### Booleanos"
   ]
  },
  {
   "cell_type": "markdown",
   "id": "abde8384",
   "metadata": {},
   "source": [
    "## Hilos"
   ]
  },
  {
   "cell_type": "markdown",
   "id": "8414638a",
   "metadata": {},
   "source": [
    "## Listas"
   ]
  },
  {
   "cell_type": "markdown",
   "id": "76ba072e",
   "metadata": {},
   "source": [
    "## Diccionarios"
   ]
  },
  {
   "cell_type": "markdown",
   "id": "eafd42dd",
   "metadata": {},
   "source": [
    "## Funciones"
   ]
  },
  {
   "cell_type": "markdown",
   "id": "96595599",
   "metadata": {},
   "source": [
    "## Lectura rápida de archivos"
   ]
  }
 ],
 "metadata": {
  "kernelspec": {
   "display_name": "Python 3 (ipykernel)",
   "language": "python",
   "name": "python3"
  },
  "language_info": {
   "codemirror_mode": {
    "name": "ipython",
    "version": 3
   },
   "file_extension": ".py",
   "mimetype": "text/x-python",
   "name": "python",
   "nbconvert_exporter": "python",
   "pygments_lexer": "ipython3",
   "version": "3.9.12"
  }
 },
 "nbformat": 4,
 "nbformat_minor": 5
}
